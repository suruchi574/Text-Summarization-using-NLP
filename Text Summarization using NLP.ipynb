{
 "cells": [
  {
   "cell_type": "code",
   "execution_count": 54,
   "id": "b33a450b",
   "metadata": {},
   "outputs": [],
   "source": [
    "text=\"Title: Interstellar Odyssey In a distant future, Earth is on the brink of collapse due to environmental catastrophes and dwindling resources. Humanity's survival depends on finding a new habitable planet. Cooper, a former NASA pilot turned farmer, stumbles upon a hidden facility where a group of scientists and engineers are working on a secret plan to save humanityLed by Dr. Amelia Brand, the team has identified a wormhole near Saturn, created by an enigmatic alien intelligence, that leads to potentially habitable planets in distant galaxies. Cooper is recruited to pilot the spacecraft Endurance on a daring mission to explore these new worlds and find a suitable home for humanity. Leaving behind his family, including his young daughter Murph, Cooper embarks on this interstellar odyssey.As the crew travels through the wormhole, they face the challenges of time dilation, where every hour on a distant planet equates to years on Earth. This phenomenon creates a rift between Cooper and Murph, who grows up to be a brilliant scientist struggling to solve the Earth's survival equation.The crew encounters a series of planets, each presenting unique hazards and opportunities. On one, time passes rapidly, turning years into minutes, while on another, massive tidal waves make survival nearly impossible. Tensions rise as personal sacrifices and difficult decisions test the crew's unity.Through transmissions, Cooper watches helplessly as his children grow older, Murph becomes consumed with anger and abandonment issues, feeling betrayed by her father's absence. Despite the challenges, the crew discovers a potential new home, but Amelia's conviction in the success of the mission is driven by her love for Dr. Mann, another scientist who preceded them.They arrive at Mann's planet, only to find it barren and inhospitable. Mann's desperation leads him to betray the team, jeopardizing their chances of survival. Cooper, with the help of TARS, an advanced AI, and Amelia, manage to escape Mann's treachery.With time running out, Cooper faces a heart-wrenching decision: whether to return to Earth to reunite with his daughter and save humanity from extinction, or continue the search for a new home. Following a revelation from the fifth-dimensional beings who created the wormhole, Cooper realizes that love, time, and gravity are interconnected. He resolves to transmit essential data to Murph through gravitational manipulation, aiding her in completing the survival equation.Cooper finds himself in a transcendent space within the fifth dimension, where he can manipulate time and space to communicate with Murph. He imparts the critical information needed to save humanity, which Murph deciphers and puts into motion, leading to the construction of massive colony ships for migration.As humanity prepares to leave Earth, Cooper's love and sacrifice have enabled a new beginning. In the final moments of his journey, he is met by Murph, now elderly, who expresses her gratitude and assures him that humanity will thrive on the new world. Cooper's odyssey, marked by love, sacrifice, and the power of human connection, becomes a beacon of hope for a species on the brink of survival.Interstellar Odyssey explores the depths of human determination, the complexities of time and space, and the enduring power of love across cosmic distances.\""
   ]
  },
  {
   "cell_type": "code",
   "execution_count": 55,
   "id": "63c38bf2",
   "metadata": {},
   "outputs": [],
   "source": [
    "import spacy\n",
    "from spacy.lang.en.stop_words import STOP_WORDS\n",
    "from string import punctuation"
   ]
  },
  {
   "cell_type": "code",
   "execution_count": 56,
   "id": "75a33a32",
   "metadata": {},
   "outputs": [],
   "source": [
    "stopwords=list(STOP_WORDS)"
   ]
  },
  {
   "cell_type": "code",
   "execution_count": 57,
   "id": "3bcc29d1",
   "metadata": {},
   "outputs": [],
   "source": [
    "nlp=spacy.load('en_core_web_sm')"
   ]
  },
  {
   "cell_type": "code",
   "execution_count": 58,
   "id": "d6607866",
   "metadata": {},
   "outputs": [],
   "source": [
    "doc=nlp(text)"
   ]
  },
  {
   "cell_type": "code",
   "execution_count": 59,
   "id": "2dd88195",
   "metadata": {},
   "outputs": [
    {
     "name": "stdout",
     "output_type": "stream",
     "text": [
      "['Title', ':', 'Interstellar', 'Odyssey', 'In', 'a', 'distant', 'future', ',', 'Earth', 'is', 'on', 'the', 'brink', 'of', 'collapse', 'due', 'to', 'environmental', 'catastrophes', 'and', 'dwindling', 'resources', '.', 'Humanity', \"'s\", 'survival', 'depends', 'on', 'finding', 'a', 'new', 'habitable', 'planet', '.', 'Cooper', ',', 'a', 'former', 'NASA', 'pilot', 'turned', 'farmer', ',', 'stumbles', 'upon', 'a', 'hidden', 'facility', 'where', 'a', 'group', 'of', 'scientists', 'and', 'engineers', 'are', 'working', 'on', 'a', 'secret', 'plan', 'to', 'save', 'humanityLed', 'by', 'Dr.', 'Amelia', 'Brand', ',', 'the', 'team', 'has', 'identified', 'a', 'wormhole', 'near', 'Saturn', ',', 'created', 'by', 'an', 'enigmatic', 'alien', 'intelligence', ',', 'that', 'leads', 'to', 'potentially', 'habitable', 'planets', 'in', 'distant', 'galaxies', '.', 'Cooper', 'is', 'recruited', 'to', 'pilot', 'the', 'spacecraft', 'Endurance', 'on', 'a', 'daring', 'mission', 'to', 'explore', 'these', 'new', 'worlds', 'and', 'find', 'a', 'suitable', 'home', 'for', 'humanity', '.', 'Leaving', 'behind', 'his', 'family', ',', 'including', 'his', 'young', 'daughter', 'Murph', ',', 'Cooper', 'embarks', 'on', 'this', 'interstellar', 'odyssey', '.', 'As', 'the', 'crew', 'travels', 'through', 'the', 'wormhole', ',', 'they', 'face', 'the', 'challenges', 'of', 'time', 'dilation', ',', 'where', 'every', 'hour', 'on', 'a', 'distant', 'planet', 'equates', 'to', 'years', 'on', 'Earth', '.', 'This', 'phenomenon', 'creates', 'a', 'rift', 'between', 'Cooper', 'and', 'Murph', ',', 'who', 'grows', 'up', 'to', 'be', 'a', 'brilliant', 'scientist', 'struggling', 'to', 'solve', 'the', 'Earth', \"'s\", 'survival', 'equation', '.', 'The', 'crew', 'encounters', 'a', 'series', 'of', 'planets', ',', 'each', 'presenting', 'unique', 'hazards', 'and', 'opportunities', '.', 'On', 'one', ',', 'time', 'passes', 'rapidly', ',', 'turning', 'years', 'into', 'minutes', ',', 'while', 'on', 'another', ',', 'massive', 'tidal', 'waves', 'make', 'survival', 'nearly', 'impossible', '.', 'Tensions', 'rise', 'as', 'personal', 'sacrifices', 'and', 'difficult', 'decisions', 'test', 'the', 'crew', \"'s\", 'unity', '.', 'Through', 'transmissions', ',', 'Cooper', 'watches', 'helplessly', 'as', 'his', 'children', 'grow', 'older', ',', 'Murph', 'becomes', 'consumed', 'with', 'anger', 'and', 'abandonment', 'issues', ',', 'feeling', 'betrayed', 'by', 'her', 'father', \"'s\", 'absence', '.', 'Despite', 'the', 'challenges', ',', 'the', 'crew', 'discovers', 'a', 'potential', 'new', 'home', ',', 'but', 'Amelia', \"'s\", 'conviction', 'in', 'the', 'success', 'of', 'the', 'mission', 'is', 'driven', 'by', 'her', 'love', 'for', 'Dr.', 'Mann', ',', 'another', 'scientist', 'who', 'preceded', 'them', '.', 'They', 'arrive', 'at', 'Mann', \"'s\", 'planet', ',', 'only', 'to', 'find', 'it', 'barren', 'and', 'inhospitable', '.', 'Mann', \"'s\", 'desperation', 'leads', 'him', 'to', 'betray', 'the', 'team', ',', 'jeopardizing', 'their', 'chances', 'of', 'survival', '.', 'Cooper', ',', 'with', 'the', 'help', 'of', 'TARS', ',', 'an', 'advanced', 'AI', ',', 'and', 'Amelia', ',', 'manage', 'to', 'escape', 'Mann', \"'s\", 'treachery', '.', 'With', 'time', 'running', 'out', ',', 'Cooper', 'faces', 'a', 'heart', '-', 'wrenching', 'decision', ':', 'whether', 'to', 'return', 'to', 'Earth', 'to', 'reunite', 'with', 'his', 'daughter', 'and', 'save', 'humanity', 'from', 'extinction', ',', 'or', 'continue', 'the', 'search', 'for', 'a', 'new', 'home', '.', 'Following', 'a', 'revelation', 'from', 'the', 'fifth', '-', 'dimensional', 'beings', 'who', 'created', 'the', 'wormhole', ',', 'Cooper', 'realizes', 'that', 'love', ',', 'time', ',', 'and', 'gravity', 'are', 'interconnected', '.', 'He', 'resolves', 'to', 'transmit', 'essential', 'data', 'to', 'Murph', 'through', 'gravitational', 'manipulation', ',', 'aiding', 'her', 'in', 'completing', 'the', 'survival', 'equation', '.', 'Cooper', 'finds', 'himself', 'in', 'a', 'transcendent', 'space', 'within', 'the', 'fifth', 'dimension', ',', 'where', 'he', 'can', 'manipulate', 'time', 'and', 'space', 'to', 'communicate', 'with', 'Murph', '.', 'He', 'imparts', 'the', 'critical', 'information', 'needed', 'to', 'save', 'humanity', ',', 'which', 'Murph', 'deciphers', 'and', 'puts', 'into', 'motion', ',', 'leading', 'to', 'the', 'construction', 'of', 'massive', 'colony', 'ships', 'for', 'migration', '.', 'As', 'humanity', 'prepares', 'to', 'leave', 'Earth', ',', 'Cooper', \"'s\", 'love', 'and', 'sacrifice', 'have', 'enabled', 'a', 'new', 'beginning', '.', 'In', 'the', 'final', 'moments', 'of', 'his', 'journey', ',', 'he', 'is', 'met', 'by', 'Murph', ',', 'now', 'elderly', ',', 'who', 'expresses', 'her', 'gratitude', 'and', 'assures', 'him', 'that', 'humanity', 'will', 'thrive', 'on', 'the', 'new', 'world', '.', 'Cooper', \"'s\", 'odyssey', ',', 'marked', 'by', 'love', ',', 'sacrifice', ',', 'and', 'the', 'power', 'of', 'human', 'connection', ',', 'becomes', 'a', 'beacon', 'of', 'hope', 'for', 'a', 'species', 'on', 'the', 'brink', 'of', 'survival', '.', 'Interstellar', 'Odyssey', 'explores', 'the', 'depths', 'of', 'human', 'determination', ',', 'the', 'complexities', 'of', 'time', 'and', 'space', ',', 'and', 'the', 'enduring', 'power', 'of', 'love', 'across', 'cosmic', 'distances', '.']\n"
     ]
    }
   ],
   "source": [
    "tokens=[token.text for token in doc]\n",
    "print(tokens)"
   ]
  },
  {
   "cell_type": "code",
   "execution_count": 60,
   "id": "e3d6968e",
   "metadata": {},
   "outputs": [
    {
     "data": {
      "text/plain": [
       "'!\"#$%&\\'()*+,-./:;<=>?@[\\\\]^_`{|}~\\n'"
      ]
     },
     "execution_count": 60,
     "metadata": {},
     "output_type": "execute_result"
    }
   ],
   "source": [
    "punctuation=punctuation+'\\n'\n",
    "punctuation"
   ]
  },
  {
   "cell_type": "code",
   "execution_count": 61,
   "id": "63e323de",
   "metadata": {},
   "outputs": [],
   "source": [
    "word_frequencies ={}\n",
    "for word in doc:\n",
    "    if word.text.lower() not in stopwords:\n",
    "        if word.text.lower() not in punctuation: \n",
    "            if word.text not in word_frequencies.keys():\n",
    "                word_frequencies[word.text]=1\n",
    "            else: \n",
    "                word_frequencies[word.text]+=1"
   ]
  },
  {
   "cell_type": "code",
   "execution_count": 62,
   "id": "82744812",
   "metadata": {},
   "outputs": [
    {
     "name": "stdout",
     "output_type": "stream",
     "text": [
      "{'Title': 1, 'Interstellar': 2, 'Odyssey': 2, 'distant': 3, 'future': 1, 'Earth': 5, 'brink': 2, 'collapse': 1, 'environmental': 1, 'catastrophes': 1, 'dwindling': 1, 'resources': 1, 'Humanity': 1, 'survival': 6, 'depends': 1, 'finding': 1, 'new': 6, 'habitable': 2, 'planet': 3, 'Cooper': 11, 'NASA': 1, 'pilot': 2, 'turned': 1, 'farmer': 1, 'stumbles': 1, 'hidden': 1, 'facility': 1, 'group': 1, 'scientists': 1, 'engineers': 1, 'working': 1, 'secret': 1, 'plan': 1, 'save': 3, 'humanityLed': 1, 'Dr.': 2, 'Amelia': 3, 'Brand': 1, 'team': 2, 'identified': 1, 'wormhole': 3, 'near': 1, 'Saturn': 1, 'created': 2, 'enigmatic': 1, 'alien': 1, 'intelligence': 1, 'leads': 2, 'potentially': 1, 'planets': 2, 'galaxies': 1, 'recruited': 1, 'spacecraft': 1, 'Endurance': 1, 'daring': 1, 'mission': 2, 'explore': 1, 'worlds': 1, 'find': 2, 'suitable': 1, 'home': 3, 'humanity': 5, 'Leaving': 1, 'family': 1, 'including': 1, 'young': 1, 'daughter': 2, 'Murph': 7, 'embarks': 1, 'interstellar': 1, 'odyssey': 2, 'crew': 4, 'travels': 1, 'face': 1, 'challenges': 2, 'time': 6, 'dilation': 1, 'hour': 1, 'equates': 1, 'years': 2, 'phenomenon': 1, 'creates': 1, 'rift': 1, 'grows': 1, 'brilliant': 1, 'scientist': 2, 'struggling': 1, 'solve': 1, 'equation': 2, 'encounters': 1, 'series': 1, 'presenting': 1, 'unique': 1, 'hazards': 1, 'opportunities': 1, 'passes': 1, 'rapidly': 1, 'turning': 1, 'minutes': 1, 'massive': 2, 'tidal': 1, 'waves': 1, 'nearly': 1, 'impossible': 1, 'Tensions': 1, 'rise': 1, 'personal': 1, 'sacrifices': 1, 'difficult': 1, 'decisions': 1, 'test': 1, 'unity': 1, 'transmissions': 1, 'watches': 1, 'helplessly': 1, 'children': 1, 'grow': 1, 'older': 1, 'consumed': 1, 'anger': 1, 'abandonment': 1, 'issues': 1, 'feeling': 1, 'betrayed': 1, 'father': 1, 'absence': 1, 'Despite': 1, 'discovers': 1, 'potential': 1, 'conviction': 1, 'success': 1, 'driven': 1, 'love': 5, 'Mann': 4, 'preceded': 1, 'arrive': 1, 'barren': 1, 'inhospitable': 1, 'desperation': 1, 'betray': 1, 'jeopardizing': 1, 'chances': 1, 'help': 1, 'TARS': 1, 'advanced': 1, 'AI': 1, 'manage': 1, 'escape': 1, 'treachery': 1, 'running': 1, 'faces': 1, 'heart': 1, 'wrenching': 1, 'decision': 1, 'return': 1, 'reunite': 1, 'extinction': 1, 'continue': 1, 'search': 1, 'Following': 1, 'revelation': 1, 'fifth': 2, 'dimensional': 1, 'beings': 1, 'realizes': 1, 'gravity': 1, 'interconnected': 1, 'resolves': 1, 'transmit': 1, 'essential': 1, 'data': 1, 'gravitational': 1, 'manipulation': 1, 'aiding': 1, 'completing': 1, 'finds': 1, 'transcendent': 1, 'space': 3, 'dimension': 1, 'manipulate': 1, 'communicate': 1, 'imparts': 1, 'critical': 1, 'information': 1, 'needed': 1, 'deciphers': 1, 'puts': 1, 'motion': 1, 'leading': 1, 'construction': 1, 'colony': 1, 'ships': 1, 'migration': 1, 'prepares': 1, 'leave': 1, 'sacrifice': 2, 'enabled': 1, 'beginning': 1, 'final': 1, 'moments': 1, 'journey': 1, 'met': 1, 'elderly': 1, 'expresses': 1, 'gratitude': 1, 'assures': 1, 'thrive': 1, 'world': 1, 'marked': 1, 'power': 2, 'human': 2, 'connection': 1, 'beacon': 1, 'hope': 1, 'species': 1, 'explores': 1, 'depths': 1, 'determination': 1, 'complexities': 1, 'enduring': 1, 'cosmic': 1, 'distances': 1}\n"
     ]
    }
   ],
   "source": [
    "print (word_frequencies)"
   ]
  },
  {
   "cell_type": "code",
   "execution_count": 63,
   "id": "c59bd1e5",
   "metadata": {},
   "outputs": [],
   "source": [
    "max_frequency =max(word_frequencies.values())"
   ]
  },
  {
   "cell_type": "code",
   "execution_count": 64,
   "id": "48939e24",
   "metadata": {},
   "outputs": [
    {
     "data": {
      "text/plain": [
       "11"
      ]
     },
     "execution_count": 64,
     "metadata": {},
     "output_type": "execute_result"
    }
   ],
   "source": [
    "max_frequency"
   ]
  },
  {
   "cell_type": "code",
   "execution_count": 65,
   "id": "ba756d27",
   "metadata": {},
   "outputs": [],
   "source": [
    "for word in word_frequencies.keys():\n",
    "    word_frequencies[word] = word_frequencies[word]/max_frequency"
   ]
  },
  {
   "cell_type": "code",
   "execution_count": 66,
   "id": "3c7ec5d7",
   "metadata": {},
   "outputs": [
    {
     "name": "stdout",
     "output_type": "stream",
     "text": [
      "{'Title': 0.09090909090909091, 'Interstellar': 0.18181818181818182, 'Odyssey': 0.18181818181818182, 'distant': 0.2727272727272727, 'future': 0.09090909090909091, 'Earth': 0.45454545454545453, 'brink': 0.18181818181818182, 'collapse': 0.09090909090909091, 'environmental': 0.09090909090909091, 'catastrophes': 0.09090909090909091, 'dwindling': 0.09090909090909091, 'resources': 0.09090909090909091, 'Humanity': 0.09090909090909091, 'survival': 0.5454545454545454, 'depends': 0.09090909090909091, 'finding': 0.09090909090909091, 'new': 0.5454545454545454, 'habitable': 0.18181818181818182, 'planet': 0.2727272727272727, 'Cooper': 1.0, 'NASA': 0.09090909090909091, 'pilot': 0.18181818181818182, 'turned': 0.09090909090909091, 'farmer': 0.09090909090909091, 'stumbles': 0.09090909090909091, 'hidden': 0.09090909090909091, 'facility': 0.09090909090909091, 'group': 0.09090909090909091, 'scientists': 0.09090909090909091, 'engineers': 0.09090909090909091, 'working': 0.09090909090909091, 'secret': 0.09090909090909091, 'plan': 0.09090909090909091, 'save': 0.2727272727272727, 'humanityLed': 0.09090909090909091, 'Dr.': 0.18181818181818182, 'Amelia': 0.2727272727272727, 'Brand': 0.09090909090909091, 'team': 0.18181818181818182, 'identified': 0.09090909090909091, 'wormhole': 0.2727272727272727, 'near': 0.09090909090909091, 'Saturn': 0.09090909090909091, 'created': 0.18181818181818182, 'enigmatic': 0.09090909090909091, 'alien': 0.09090909090909091, 'intelligence': 0.09090909090909091, 'leads': 0.18181818181818182, 'potentially': 0.09090909090909091, 'planets': 0.18181818181818182, 'galaxies': 0.09090909090909091, 'recruited': 0.09090909090909091, 'spacecraft': 0.09090909090909091, 'Endurance': 0.09090909090909091, 'daring': 0.09090909090909091, 'mission': 0.18181818181818182, 'explore': 0.09090909090909091, 'worlds': 0.09090909090909091, 'find': 0.18181818181818182, 'suitable': 0.09090909090909091, 'home': 0.2727272727272727, 'humanity': 0.45454545454545453, 'Leaving': 0.09090909090909091, 'family': 0.09090909090909091, 'including': 0.09090909090909091, 'young': 0.09090909090909091, 'daughter': 0.18181818181818182, 'Murph': 0.6363636363636364, 'embarks': 0.09090909090909091, 'interstellar': 0.09090909090909091, 'odyssey': 0.18181818181818182, 'crew': 0.36363636363636365, 'travels': 0.09090909090909091, 'face': 0.09090909090909091, 'challenges': 0.18181818181818182, 'time': 0.5454545454545454, 'dilation': 0.09090909090909091, 'hour': 0.09090909090909091, 'equates': 0.09090909090909091, 'years': 0.18181818181818182, 'phenomenon': 0.09090909090909091, 'creates': 0.09090909090909091, 'rift': 0.09090909090909091, 'grows': 0.09090909090909091, 'brilliant': 0.09090909090909091, 'scientist': 0.18181818181818182, 'struggling': 0.09090909090909091, 'solve': 0.09090909090909091, 'equation': 0.18181818181818182, 'encounters': 0.09090909090909091, 'series': 0.09090909090909091, 'presenting': 0.09090909090909091, 'unique': 0.09090909090909091, 'hazards': 0.09090909090909091, 'opportunities': 0.09090909090909091, 'passes': 0.09090909090909091, 'rapidly': 0.09090909090909091, 'turning': 0.09090909090909091, 'minutes': 0.09090909090909091, 'massive': 0.18181818181818182, 'tidal': 0.09090909090909091, 'waves': 0.09090909090909091, 'nearly': 0.09090909090909091, 'impossible': 0.09090909090909091, 'Tensions': 0.09090909090909091, 'rise': 0.09090909090909091, 'personal': 0.09090909090909091, 'sacrifices': 0.09090909090909091, 'difficult': 0.09090909090909091, 'decisions': 0.09090909090909091, 'test': 0.09090909090909091, 'unity': 0.09090909090909091, 'transmissions': 0.09090909090909091, 'watches': 0.09090909090909091, 'helplessly': 0.09090909090909091, 'children': 0.09090909090909091, 'grow': 0.09090909090909091, 'older': 0.09090909090909091, 'consumed': 0.09090909090909091, 'anger': 0.09090909090909091, 'abandonment': 0.09090909090909091, 'issues': 0.09090909090909091, 'feeling': 0.09090909090909091, 'betrayed': 0.09090909090909091, 'father': 0.09090909090909091, 'absence': 0.09090909090909091, 'Despite': 0.09090909090909091, 'discovers': 0.09090909090909091, 'potential': 0.09090909090909091, 'conviction': 0.09090909090909091, 'success': 0.09090909090909091, 'driven': 0.09090909090909091, 'love': 0.45454545454545453, 'Mann': 0.36363636363636365, 'preceded': 0.09090909090909091, 'arrive': 0.09090909090909091, 'barren': 0.09090909090909091, 'inhospitable': 0.09090909090909091, 'desperation': 0.09090909090909091, 'betray': 0.09090909090909091, 'jeopardizing': 0.09090909090909091, 'chances': 0.09090909090909091, 'help': 0.09090909090909091, 'TARS': 0.09090909090909091, 'advanced': 0.09090909090909091, 'AI': 0.09090909090909091, 'manage': 0.09090909090909091, 'escape': 0.09090909090909091, 'treachery': 0.09090909090909091, 'running': 0.09090909090909091, 'faces': 0.09090909090909091, 'heart': 0.09090909090909091, 'wrenching': 0.09090909090909091, 'decision': 0.09090909090909091, 'return': 0.09090909090909091, 'reunite': 0.09090909090909091, 'extinction': 0.09090909090909091, 'continue': 0.09090909090909091, 'search': 0.09090909090909091, 'Following': 0.09090909090909091, 'revelation': 0.09090909090909091, 'fifth': 0.18181818181818182, 'dimensional': 0.09090909090909091, 'beings': 0.09090909090909091, 'realizes': 0.09090909090909091, 'gravity': 0.09090909090909091, 'interconnected': 0.09090909090909091, 'resolves': 0.09090909090909091, 'transmit': 0.09090909090909091, 'essential': 0.09090909090909091, 'data': 0.09090909090909091, 'gravitational': 0.09090909090909091, 'manipulation': 0.09090909090909091, 'aiding': 0.09090909090909091, 'completing': 0.09090909090909091, 'finds': 0.09090909090909091, 'transcendent': 0.09090909090909091, 'space': 0.2727272727272727, 'dimension': 0.09090909090909091, 'manipulate': 0.09090909090909091, 'communicate': 0.09090909090909091, 'imparts': 0.09090909090909091, 'critical': 0.09090909090909091, 'information': 0.09090909090909091, 'needed': 0.09090909090909091, 'deciphers': 0.09090909090909091, 'puts': 0.09090909090909091, 'motion': 0.09090909090909091, 'leading': 0.09090909090909091, 'construction': 0.09090909090909091, 'colony': 0.09090909090909091, 'ships': 0.09090909090909091, 'migration': 0.09090909090909091, 'prepares': 0.09090909090909091, 'leave': 0.09090909090909091, 'sacrifice': 0.18181818181818182, 'enabled': 0.09090909090909091, 'beginning': 0.09090909090909091, 'final': 0.09090909090909091, 'moments': 0.09090909090909091, 'journey': 0.09090909090909091, 'met': 0.09090909090909091, 'elderly': 0.09090909090909091, 'expresses': 0.09090909090909091, 'gratitude': 0.09090909090909091, 'assures': 0.09090909090909091, 'thrive': 0.09090909090909091, 'world': 0.09090909090909091, 'marked': 0.09090909090909091, 'power': 0.18181818181818182, 'human': 0.18181818181818182, 'connection': 0.09090909090909091, 'beacon': 0.09090909090909091, 'hope': 0.09090909090909091, 'species': 0.09090909090909091, 'explores': 0.09090909090909091, 'depths': 0.09090909090909091, 'determination': 0.09090909090909091, 'complexities': 0.09090909090909091, 'enduring': 0.09090909090909091, 'cosmic': 0.09090909090909091, 'distances': 0.09090909090909091}\n"
     ]
    }
   ],
   "source": [
    "print(word_frequencies)"
   ]
  },
  {
   "cell_type": "code",
   "execution_count": 67,
   "id": "12782083",
   "metadata": {},
   "outputs": [
    {
     "name": "stdout",
     "output_type": "stream",
     "text": [
      "[Title: Interstellar Odyssey In a distant future, Earth is on the brink of collapse due to environmental catastrophes and dwindling resources., Humanity's survival depends on finding a new habitable planet., Cooper, a former NASA pilot turned farmer, stumbles upon a hidden facility where a group of scientists and engineers are working on a secret plan to save humanityLed by Dr. Amelia Brand, the team has identified a wormhole near Saturn, created by an enigmatic alien intelligence, that leads to potentially habitable planets in distant galaxies., Cooper is recruited to pilot the spacecraft Endurance on a daring mission to explore these new worlds and find a suitable home for humanity., Leaving behind his family, including his young daughter Murph, Cooper embarks on this interstellar odyssey., As the crew travels through the wormhole, they face the challenges of time dilation, where every hour on a distant planet equates to years on Earth., This phenomenon creates a rift between Cooper and Murph, who grows up to be a brilliant scientist struggling to solve the Earth's survival equation., The crew encounters a series of planets, each presenting unique hazards and opportunities., On one, time passes rapidly, turning years into minutes, while on another, massive tidal waves make survival nearly impossible., Tensions rise as personal sacrifices and difficult decisions test the crew's unity., Through transmissions, Cooper watches helplessly as his children grow older, Murph becomes consumed with anger and abandonment issues, feeling betrayed by her father's absence., Despite the challenges, the crew discovers a potential new home, but Amelia's conviction in the success of the mission is driven by her love for Dr. Mann, another scientist who preceded them., They arrive at Mann's planet, only to find it barren and inhospitable., Mann's desperation leads him to betray the team, jeopardizing their chances of survival., Cooper, with the help of TARS, an advanced AI, and Amelia, manage to escape Mann's treachery., With time running out, Cooper faces a heart-wrenching decision: whether to return to Earth to reunite with his daughter and save humanity from extinction, or continue the search for a new home., Following a revelation from the fifth-dimensional beings who created the wormhole, Cooper realizes that love, time, and gravity are interconnected., He resolves to transmit essential data to Murph through gravitational manipulation, aiding her in completing the survival equation., Cooper finds himself in a transcendent space within the fifth dimension, where he can manipulate time and space to communicate with Murph., He imparts the critical information needed to save humanity, which Murph deciphers and puts into motion, leading to the construction of massive colony ships for migration., As humanity prepares to leave Earth, Cooper's love and sacrifice have enabled a new beginning., In the final moments of his journey, he is met by Murph, now elderly, who expresses her gratitude and assures him that humanity will thrive on the new world., Cooper's odyssey, marked by love, sacrifice, and the power of human connection, becomes a beacon of hope for a species on the brink of survival., Interstellar Odyssey explores the depths of human determination, the complexities of time and space, and the enduring power of love across cosmic distances.]\n"
     ]
    }
   ],
   "source": [
    "sentence_tokens =[sent for sent in doc.sents]\n",
    "print(sentence_tokens)"
   ]
  },
  {
   "cell_type": "code",
   "execution_count": 69,
   "id": "2467cb54",
   "metadata": {},
   "outputs": [],
   "source": [
    "sentence_scores= {}\n",
    "for sent in sentence_tokens:\n",
    "    for word in sent:\n",
    "        if word.text.lower() in word_frequencies.keys():\n",
    "            if sent not in sentence_scores.keys():\n",
    "                sentence_scores[sent]=word_frequencies[word.text.lower()]\n",
    "            else:\n",
    "                sentence_scores[sent] = word_frequencies[word.text.lower()]\n",
    "               "
   ]
  },
  {
   "cell_type": "code",
   "execution_count": 70,
   "id": "431c68df",
   "metadata": {},
   "outputs": [
    {
     "data": {
      "text/plain": [
       "{Title: Interstellar Odyssey In a distant future, Earth is on the brink of collapse due to environmental catastrophes and dwindling resources.: 0.09090909090909091,\n",
       " Humanity's survival depends on finding a new habitable planet.: 0.2727272727272727,\n",
       " Cooper, a former NASA pilot turned farmer, stumbles upon a hidden facility where a group of scientists and engineers are working on a secret plan to save humanityLed by Dr. Amelia Brand, the team has identified a wormhole near Saturn, created by an enigmatic alien intelligence, that leads to potentially habitable planets in distant galaxies.: 0.09090909090909091,\n",
       " Cooper is recruited to pilot the spacecraft Endurance on a daring mission to explore these new worlds and find a suitable home for humanity.: 0.45454545454545453,\n",
       " Leaving behind his family, including his young daughter Murph, Cooper embarks on this interstellar odyssey.: 0.18181818181818182,\n",
       " As the crew travels through the wormhole, they face the challenges of time dilation, where every hour on a distant planet equates to years on Earth.: 0.18181818181818182,\n",
       " This phenomenon creates a rift between Cooper and Murph, who grows up to be a brilliant scientist struggling to solve the Earth's survival equation.: 0.18181818181818182,\n",
       " The crew encounters a series of planets, each presenting unique hazards and opportunities.: 0.09090909090909091,\n",
       " On one, time passes rapidly, turning years into minutes, while on another, massive tidal waves make survival nearly impossible.: 0.09090909090909091,\n",
       " Tensions rise as personal sacrifices and difficult decisions test the crew's unity.: 0.09090909090909091,\n",
       " Through transmissions, Cooper watches helplessly as his children grow older, Murph becomes consumed with anger and abandonment issues, feeling betrayed by her father's absence.: 0.09090909090909091,\n",
       " Despite the challenges, the crew discovers a potential new home, but Amelia's conviction in the success of the mission is driven by her love for Dr. Mann, another scientist who preceded them.: 0.09090909090909091,\n",
       " They arrive at Mann's planet, only to find it barren and inhospitable.: 0.09090909090909091,\n",
       " Mann's desperation leads him to betray the team, jeopardizing their chances of survival.: 0.5454545454545454,\n",
       " Cooper, with the help of TARS, an advanced AI, and Amelia, manage to escape Mann's treachery.: 0.09090909090909091,\n",
       " With time running out, Cooper faces a heart-wrenching decision: whether to return to Earth to reunite with his daughter and save humanity from extinction, or continue the search for a new home.: 0.2727272727272727,\n",
       " Following a revelation from the fifth-dimensional beings who created the wormhole, Cooper realizes that love, time, and gravity are interconnected.: 0.09090909090909091,\n",
       " He resolves to transmit essential data to Murph through gravitational manipulation, aiding her in completing the survival equation.: 0.18181818181818182,\n",
       " Cooper finds himself in a transcendent space within the fifth dimension, where he can manipulate time and space to communicate with Murph.: 0.09090909090909091,\n",
       " He imparts the critical information needed to save humanity, which Murph deciphers and puts into motion, leading to the construction of massive colony ships for migration.: 0.09090909090909091,\n",
       " As humanity prepares to leave Earth, Cooper's love and sacrifice have enabled a new beginning.: 0.09090909090909091,\n",
       " In the final moments of his journey, he is met by Murph, now elderly, who expresses her gratitude and assures him that humanity will thrive on the new world.: 0.09090909090909091,\n",
       " Cooper's odyssey, marked by love, sacrifice, and the power of human connection, becomes a beacon of hope for a species on the brink of survival.: 0.5454545454545454,\n",
       " Interstellar Odyssey explores the depths of human determination, the complexities of time and space, and the enduring power of love across cosmic distances.: 0.09090909090909091}"
      ]
     },
     "execution_count": 70,
     "metadata": {},
     "output_type": "execute_result"
    }
   ],
   "source": [
    "sentence_scores"
   ]
  },
  {
   "cell_type": "code",
   "execution_count": 71,
   "id": "9f583e91",
   "metadata": {},
   "outputs": [],
   "source": [
    "from heapq import nlargest"
   ]
  },
  {
   "cell_type": "code",
   "execution_count": 72,
   "id": "8091ae16",
   "metadata": {},
   "outputs": [
    {
     "data": {
      "text/plain": [
       "7"
      ]
     },
     "execution_count": 72,
     "metadata": {},
     "output_type": "execute_result"
    }
   ],
   "source": [
    "select_length = int (len(sentence_tokens)*0.3)\n",
    "select_length"
   ]
  },
  {
   "cell_type": "code",
   "execution_count": 73,
   "id": "92d8b0a7",
   "metadata": {},
   "outputs": [],
   "source": [
    "summary=nlargest(select_length,sentence_scores,key=sentence_scores.get)"
   ]
  },
  {
   "cell_type": "code",
   "execution_count": 74,
   "id": "a311f74d",
   "metadata": {},
   "outputs": [
    {
     "data": {
      "text/plain": [
       "[Mann's desperation leads him to betray the team, jeopardizing their chances of survival.,\n",
       " Cooper's odyssey, marked by love, sacrifice, and the power of human connection, becomes a beacon of hope for a species on the brink of survival.,\n",
       " Cooper is recruited to pilot the spacecraft Endurance on a daring mission to explore these new worlds and find a suitable home for humanity.,\n",
       " Humanity's survival depends on finding a new habitable planet.,\n",
       " With time running out, Cooper faces a heart-wrenching decision: whether to return to Earth to reunite with his daughter and save humanity from extinction, or continue the search for a new home.,\n",
       " Leaving behind his family, including his young daughter Murph, Cooper embarks on this interstellar odyssey.,\n",
       " As the crew travels through the wormhole, they face the challenges of time dilation, where every hour on a distant planet equates to years on Earth.]"
      ]
     },
     "execution_count": 74,
     "metadata": {},
     "output_type": "execute_result"
    }
   ],
   "source": [
    "summary"
   ]
  },
  {
   "cell_type": "code",
   "execution_count": 76,
   "id": "47063dda",
   "metadata": {},
   "outputs": [],
   "source": [
    "final_summary=[word.text for word in summary]"
   ]
  },
  {
   "cell_type": "code",
   "execution_count": 77,
   "id": "3a049679",
   "metadata": {},
   "outputs": [],
   "source": [
    "summary =' '.join(final_summary)"
   ]
  },
  {
   "cell_type": "code",
   "execution_count": 78,
   "id": "71648491",
   "metadata": {},
   "outputs": [
    {
     "name": "stdout",
     "output_type": "stream",
     "text": [
      "Mann's desperation leads him to betray the team, jeopardizing their chances of survival. Cooper's odyssey, marked by love, sacrifice, and the power of human connection, becomes a beacon of hope for a species on the brink of survival. Cooper is recruited to pilot the spacecraft Endurance on a daring mission to explore these new worlds and find a suitable home for humanity. Humanity's survival depends on finding a new habitable planet. With time running out, Cooper faces a heart-wrenching decision: whether to return to Earth to reunite with his daughter and save humanity from extinction, or continue the search for a new home. Leaving behind his family, including his young daughter Murph, Cooper embarks on this interstellar odyssey. As the crew travels through the wormhole, they face the challenges of time dilation, where every hour on a distant planet equates to years on Earth.\n"
     ]
    }
   ],
   "source": [
    "print(summary)"
   ]
  },
  {
   "cell_type": "code",
   "execution_count": 79,
   "id": "ef4abf0e",
   "metadata": {},
   "outputs": [
    {
     "data": {
      "text/plain": [
       "3353"
      ]
     },
     "execution_count": 79,
     "metadata": {},
     "output_type": "execute_result"
    }
   ],
   "source": [
    "len(text)"
   ]
  },
  {
   "cell_type": "code",
   "execution_count": 80,
   "id": "11484cff",
   "metadata": {},
   "outputs": [
    {
     "data": {
      "text/plain": [
       "888"
      ]
     },
     "execution_count": 80,
     "metadata": {},
     "output_type": "execute_result"
    }
   ],
   "source": [
    "len(summary)"
   ]
  },
  {
   "cell_type": "code",
   "execution_count": null,
   "id": "ceea5955",
   "metadata": {},
   "outputs": [],
   "source": []
  },
  {
   "cell_type": "code",
   "execution_count": null,
   "id": "8aead773",
   "metadata": {},
   "outputs": [],
   "source": []
  }
 ],
 "metadata": {
  "kernelspec": {
   "display_name": "Python 3 (ipykernel)",
   "language": "python",
   "name": "python3"
  },
  "language_info": {
   "codemirror_mode": {
    "name": "ipython",
    "version": 3
   },
   "file_extension": ".py",
   "mimetype": "text/x-python",
   "name": "python",
   "nbconvert_exporter": "python",
   "pygments_lexer": "ipython3",
   "version": "3.10.5"
  }
 },
 "nbformat": 4,
 "nbformat_minor": 5
}
